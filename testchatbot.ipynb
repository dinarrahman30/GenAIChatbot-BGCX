{
 "cells": [
  {
   "cell_type": "code",
   "execution_count": 4,
   "id": "8e9bb152-9952-4323-93c9-3d9838225497",
   "metadata": {},
   "outputs": [
    {
     "name": "stdout",
     "output_type": "stream",
     "text": [
      "Columns in final_report: Index(['Unnamed: 0', 'Year', 'Company', 'Total Revenue', 'Net Income',\n",
      "       'Total Assets', 'Total Liabilities',\n",
      "       'Cash Flow from Operating Activities', 'Revenue Growth (%)',\n",
      "       'Net Income Growth (%)', 'Assets Growth (%)', 'Liabilities Growth (%)',\n",
      "       'Cash flow from Operations Growth (%)'],\n",
      "      dtype='object')\n",
      "Columns in summary_report: Index(['Unnamed: 0', 'Company', 'Revenue Growth (%)', 'Net Income Growth (%)',\n",
      "       'Assets Growth (%)', 'Liabilities Growth (%)',\n",
      "       'Cash flow from Operations Growth (%)'],\n",
      "      dtype='object')\n",
      "--------------------------------------------------------------\n"
     ]
    },
    {
     "name": "stdin",
     "output_type": "stream",
     "text": [
      "Enter to start the chatbot session; (type 'exit' to quit): hi\n"
     ]
    },
    {
     "name": "stdout",
     "output_type": "stream",
     "text": [
      "\n",
      "Hi! Welcome to AI Chatbot Financial!!!\n",
      "\n",
      "I can help you with financial queries\n",
      "Select to find company name from below: -\n",
      "\n",
      "1. Microsoft \n",
      "2. Tesla \n",
      "3. Apple\n"
     ]
    },
    {
     "name": "stdin",
     "output_type": "stream",
     "text": [
      "Enter company name:  apple\n"
     ]
    },
    {
     "name": "stdout",
     "output_type": "stream",
     "text": [
      "\n",
      "The data for fiscal year 2023, 2022, 2021 is currently available\n"
     ]
    },
    {
     "name": "stdin",
     "output_type": "stream",
     "text": [
      "Enter fiscal year:  2023\n"
     ]
    },
    {
     "name": "stdout",
     "output_type": "stream",
     "text": [
      "--------------------------------------------------------------\n"
     ]
    },
    {
     "name": "stdin",
     "output_type": "stream",
     "text": [
      "Enter to start the chatbot session; (type 'exit' to quit): \n"
     ]
    },
    {
     "name": "stdout",
     "output_type": "stream",
     "text": [
      "Enter 'Hi' by starting the chatbot session again\n",
      "Enter Your Query\n"
     ]
    },
    {
     "name": "stdin",
     "output_type": "stream",
     "text": [
      " What is the cash flow from operations growth(%) ?\n"
     ]
    },
    {
     "name": "stdout",
     "output_type": "stream",
     "text": [
      "The Cash Flow from Operations Growth(%) for Apple for fiscal year 2023 is 0.0(%)\n"
     ]
    }
   ],
   "source": [
    "%run AIChatbot.py"
   ]
  }
 ],
 "metadata": {
  "kernelspec": {
   "display_name": "anaconda-2024.02-py310",
   "language": "python",
   "name": "conda-env-anaconda-2024.02-py310-py"
  },
  "language_info": {
   "codemirror_mode": {
    "name": "ipython",
    "version": 3
   },
   "file_extension": ".py",
   "mimetype": "text/x-python",
   "name": "python",
   "nbconvert_exporter": "python",
   "pygments_lexer": "ipython3",
   "version": "3.10.14"
  }
 },
 "nbformat": 4,
 "nbformat_minor": 5
}
